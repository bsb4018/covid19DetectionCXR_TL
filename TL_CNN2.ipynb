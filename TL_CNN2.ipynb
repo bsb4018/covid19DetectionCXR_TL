{
  "cells": [
    {
      "cell_type": "code",
      "execution_count": 1,
      "metadata": {
        "id": "6Jyj24q84Obr"
      },
      "outputs": [],
      "source": [
        "import os\n",
        "import glob\n",
        "import cv2 \n",
        "import numpy as np\n",
        "import pandas as pd\n",
        "import matplotlib.pyplot as plt\n",
        "from keras.utils.np_utils import to_categorical\n",
        "from keras.models import load_model  \n",
        "from keras import Sequential\n",
        "from keras.layers import Conv2D,MaxPooling2D,Flatten,Softmax,Activation,Dense,Dropout\n",
        "from sklearn.model_selection import train_test_split\n",
        "from keras import optimizers"
      ]
    },
    {
      "cell_type": "code",
      "source": [
        "import tensorflow as tf\n",
        "import tensorflow.keras as keras\n",
        "from tensorflow.keras.preprocessing.image import ImageDataGenerator\n",
        "from tensorflow.keras.utils import to_categorical\n",
        "from tensorflow.keras.layers import Dense, Flatten ,Input, Conv2D ,MaxPooling2D ,Dropout ,BatchNormalization ,GlobalMaxPool2D, concatenate\n",
        "from tensorflow.keras.models import Sequential , Model , load_model\n",
        "from tensorflow.keras.optimizers import Adam, RMSprop\n",
        "from tensorflow.keras.utils import plot_model\n",
        "from tensorflow.keras.callbacks import EarlyStopping ,ReduceLROnPlateau ,ModelCheckpoint\n",
        "from skimage.feature import greycomatrix, greycoprops\n",
        "from sklearn.metrics import confusion_matrix, classification_report\n",
        "from sklearn.model_selection import train_test_split\n",
        "from tensorflow.keras.utils import load_img, img_to_array, array_to_img\n",
        "import matplotlib.image as mpimg\n",
        "import pickle\n",
        "from keras.utils import np_utils\n",
        "from sklearn.preprocessing import LabelEncoder\n",
        "from keras.utils.np_utils import to_categorical\n",
        "from tensorflow.keras.optimizers import RMSprop,Adam\n",
        "from tensorflow import keras \n",
        "from tensorflow.keras import layers\n",
        "from keras.models import Model\n",
        "from sklearn import model_selection\n",
        "from sklearn.model_selection import StratifiedKFold\n",
        "from sklearn.metrics import accuracy_score,classification_report,confusion_matrix"
      ],
      "metadata": {
        "id": "nRLkJd8FDOjG"
      },
      "execution_count": 12,
      "outputs": []
    },
    {
      "cell_type": "code",
      "source": [
        "#BASIC HYPERPARAMETERS\n",
        "num_epochs = 40\n",
        "batch_size = 32\n",
        "num_classes = 2\n",
        "img_dim = 128\n",
        "n_channel = 3\n",
        "input_shape = (img_dim,img_dim,n_channel)\n",
        "data_dir = '/content/drive/MyDrive/pdataset1/'"
      ],
      "metadata": {
        "id": "VwVQ-2ztBMD2"
      },
      "execution_count": 3,
      "outputs": []
    },
    {
      "cell_type": "code",
      "source": [
        "#Creating dataframe of (Image,Label) from the images\n",
        "def createFrame(path,IMG_DIM):\n",
        "    train_imgs = []\n",
        "    labels = []\n",
        "    #getting all folder name\n",
        "    directories = os.listdir(path)\n",
        "    for i in range(len(directories)):\n",
        "        ls = []\n",
        "        temp = []\n",
        "        curPath = path +'/' +directories[i] + '/*'\n",
        "        #getting all files name\n",
        "        ls = glob.glob(curPath)\n",
        "        for img in ls:\n",
        "            x = img_to_array(load_img(img,target_size = IMG_DIM))\n",
        "            temp.append(x)\n",
        "\n",
        "        #print(len(ls))\n",
        "        train_imgs  = train_imgs + temp\n",
        "        label = []\n",
        "        label = [i]*len(ls)\n",
        "        labels += label\n",
        "\n",
        "    df = pd.DataFrame(list(zip(train_imgs,labels)))\n",
        "    df = df.sample(frac = 1) \n",
        "    return df"
      ],
      "metadata": {
        "id": "YQUoxHlkBMJG"
      },
      "execution_count": 4,
      "outputs": []
    },
    {
      "cell_type": "code",
      "source": [
        "def data_split(df):\n",
        "    df_imgs = df[0]\n",
        "    df_imgs = list(df[0])\n",
        "    df_imgs = np.array(df_imgs)\n",
        "    df_imgs = df_imgs/255\n",
        "    \n",
        "    df_labels = df[1]\n",
        "    df_labels = np.array(df[1])\n",
        "    encoder = LabelEncoder()\n",
        "    encoder.fit(df_labels)\n",
        "    df_labels = encoder.transform(df_labels)\n",
        "    df_labels = np_utils.to_categorical(df_labels)\n",
        "\n",
        "    X_train, X_val, y_train, y_val = train_test_split(df_imgs, df_labels, test_size=0.2)\n",
        "\n",
        "    return X_train, X_val, y_train, y_val\n"
      ],
      "metadata": {
        "id": "g9BOhBP0CCgj"
      },
      "execution_count": 5,
      "outputs": []
    },
    {
      "cell_type": "code",
      "execution_count": 6,
      "metadata": {
        "id": "_0jqWjWq5CRF"
      },
      "outputs": [],
      "source": [
        "def Vgg16():\n",
        "    \n",
        "    print(\" USING PRETRAINED VGG16 ON IMAGENET AS OUR MODEL\")\n",
        "    input_shape_vgg = input_shape\n",
        "    vgg_model = keras.applications.VGG16(include_top=False,weights=\"imagenet\",input_shape=input_shape_vgg)\n",
        "    for layer in vgg_model.layers:\n",
        "        layer.trainable = False\n",
        "   \n",
        "    ll = vgg_model.get_layer('block5_pool')\n",
        "    lo = ll.output\n",
        "\n",
        "    layer = keras.layers.Flatten()(lo)\n",
        "    layer = keras.layers.Dense(units=512,activation='relu')(layer)\n",
        "    layer = keras.layers.Dropout(0.30)(layer)\n",
        "    layer = keras.layers.Dense(units=64,activation='relu')(layer)\n",
        "    layer = keras.layers.Dropout(0.25)(layer)\n",
        "    layer = keras.layers.Dense(units=2,activation='sigmoid')(layer)\n",
        "    \n",
        "    model = keras.models.Model(vgg_model.input, outputs=layer)\n",
        "    \n",
        "    model.compile(optimizer = keras.optimizers.Adam(learning_rate=0.001),loss='binary_crossentropy',metrics=['acc'])\n",
        "    print(\"--------------------------------MODEL COMPILED---------------------------------------\")\n",
        "\n",
        "    return model"
      ]
    },
    {
      "cell_type": "code",
      "execution_count": 7,
      "metadata": {
        "id": "5g0SkH8e4TRH",
        "colab": {
          "base_uri": "https://localhost:8080/"
        },
        "outputId": "05ef66e2-4e22-40d3-9548-7933da3c74cd"
      },
      "outputs": [
        {
          "output_type": "stream",
          "name": "stdout",
          "text": [
            " USING PRETRAINED VGG16 ON IMAGENET AS OUR MODEL\n",
            "Downloading data from https://storage.googleapis.com/tensorflow/keras-applications/vgg16/vgg16_weights_tf_dim_ordering_tf_kernels_notop.h5\n",
            "58892288/58889256 [==============================] - 0s 0us/step\n",
            "58900480/58889256 [==============================] - 0s 0us/step\n",
            "--------------------------------MODEL COMPILED---------------------------------------\n"
          ]
        }
      ],
      "source": [
        "model=Vgg16()"
      ]
    },
    {
      "cell_type": "code",
      "source": [
        "df = createFrame(data_dir,input_shape)"
      ],
      "metadata": {
        "id": "7SiD6-5XDjXJ"
      },
      "execution_count": 8,
      "outputs": []
    },
    {
      "cell_type": "code",
      "source": [
        "df.head()"
      ],
      "metadata": {
        "colab": {
          "base_uri": "https://localhost:8080/",
          "height": 34
        },
        "id": "93bgVt_HEW05",
        "outputId": "e090114d-e802-4eb7-972d-33c388d9fb16"
      },
      "execution_count": 9,
      "outputs": [
        {
          "output_type": "execute_result",
          "data": {
            "text/plain": [
              "                                                       0  1\n",
              "11889  [[[135.0, 135.0, 135.0], [160.0, 160.0, 160.0]...  1\n",
              "2733   [[[0.0, 0.0, 0.0], [0.0, 0.0, 0.0], [0.0, 0.0,...  0\n",
              "7354   [[[68.0, 68.0, 68.0], [69.0, 69.0, 69.0], [69....  0\n",
              "2314   [[[113.0, 113.0, 113.0], [116.0, 116.0, 116.0]...  0\n",
              "3486   [[[35.0, 35.0, 35.0], [34.0, 34.0, 34.0], [36....  0"
            ],
            "text/html": [
              "\n",
              "  <div id=\"df-7dd4ad9c-1ede-47ee-a5ab-1d5bf7c32780\">\n",
              "    <div class=\"colab-df-container\">\n",
              "      <div>\n",
              "<style scoped>\n",
              "    .dataframe tbody tr th:only-of-type {\n",
              "        vertical-align: middle;\n",
              "    }\n",
              "\n",
              "    .dataframe tbody tr th {\n",
              "        vertical-align: top;\n",
              "    }\n",
              "\n",
              "    .dataframe thead th {\n",
              "        text-align: right;\n",
              "    }\n",
              "</style>\n",
              "<table border=\"1\" class=\"dataframe\">\n",
              "  <thead>\n",
              "    <tr style=\"text-align: right;\">\n",
              "      <th></th>\n",
              "      <th>0</th>\n",
              "      <th>1</th>\n",
              "    </tr>\n",
              "  </thead>\n",
              "  <tbody>\n",
              "    <tr>\n",
              "      <th>11889</th>\n",
              "      <td>[[[135.0, 135.0, 135.0], [160.0, 160.0, 160.0]...</td>\n",
              "      <td>1</td>\n",
              "    </tr>\n",
              "    <tr>\n",
              "      <th>2733</th>\n",
              "      <td>[[[0.0, 0.0, 0.0], [0.0, 0.0, 0.0], [0.0, 0.0,...</td>\n",
              "      <td>0</td>\n",
              "    </tr>\n",
              "    <tr>\n",
              "      <th>7354</th>\n",
              "      <td>[[[68.0, 68.0, 68.0], [69.0, 69.0, 69.0], [69....</td>\n",
              "      <td>0</td>\n",
              "    </tr>\n",
              "    <tr>\n",
              "      <th>2314</th>\n",
              "      <td>[[[113.0, 113.0, 113.0], [116.0, 116.0, 116.0]...</td>\n",
              "      <td>0</td>\n",
              "    </tr>\n",
              "    <tr>\n",
              "      <th>3486</th>\n",
              "      <td>[[[35.0, 35.0, 35.0], [34.0, 34.0, 34.0], [36....</td>\n",
              "      <td>0</td>\n",
              "    </tr>\n",
              "  </tbody>\n",
              "</table>\n",
              "</div>\n",
              "      <button class=\"colab-df-convert\" onclick=\"convertToInteractive('df-7dd4ad9c-1ede-47ee-a5ab-1d5bf7c32780')\"\n",
              "              title=\"Convert this dataframe to an interactive table.\"\n",
              "              style=\"display:none;\">\n",
              "        \n",
              "  <svg xmlns=\"http://www.w3.org/2000/svg\" height=\"24px\"viewBox=\"0 0 24 24\"\n",
              "       width=\"24px\">\n",
              "    <path d=\"M0 0h24v24H0V0z\" fill=\"none\"/>\n",
              "    <path d=\"M18.56 5.44l.94 2.06.94-2.06 2.06-.94-2.06-.94-.94-2.06-.94 2.06-2.06.94zm-11 1L8.5 8.5l.94-2.06 2.06-.94-2.06-.94L8.5 2.5l-.94 2.06-2.06.94zm10 10l.94 2.06.94-2.06 2.06-.94-2.06-.94-.94-2.06-.94 2.06-2.06.94z\"/><path d=\"M17.41 7.96l-1.37-1.37c-.4-.4-.92-.59-1.43-.59-.52 0-1.04.2-1.43.59L10.3 9.45l-7.72 7.72c-.78.78-.78 2.05 0 2.83L4 21.41c.39.39.9.59 1.41.59.51 0 1.02-.2 1.41-.59l7.78-7.78 2.81-2.81c.8-.78.8-2.07 0-2.86zM5.41 20L4 18.59l7.72-7.72 1.47 1.35L5.41 20z\"/>\n",
              "  </svg>\n",
              "      </button>\n",
              "      \n",
              "  <style>\n",
              "    .colab-df-container {\n",
              "      display:flex;\n",
              "      flex-wrap:wrap;\n",
              "      gap: 12px;\n",
              "    }\n",
              "\n",
              "    .colab-df-convert {\n",
              "      background-color: #E8F0FE;\n",
              "      border: none;\n",
              "      border-radius: 50%;\n",
              "      cursor: pointer;\n",
              "      display: none;\n",
              "      fill: #1967D2;\n",
              "      height: 32px;\n",
              "      padding: 0 0 0 0;\n",
              "      width: 32px;\n",
              "    }\n",
              "\n",
              "    .colab-df-convert:hover {\n",
              "      background-color: #E2EBFA;\n",
              "      box-shadow: 0px 1px 2px rgba(60, 64, 67, 0.3), 0px 1px 3px 1px rgba(60, 64, 67, 0.15);\n",
              "      fill: #174EA6;\n",
              "    }\n",
              "\n",
              "    [theme=dark] .colab-df-convert {\n",
              "      background-color: #3B4455;\n",
              "      fill: #D2E3FC;\n",
              "    }\n",
              "\n",
              "    [theme=dark] .colab-df-convert:hover {\n",
              "      background-color: #434B5C;\n",
              "      box-shadow: 0px 1px 3px 1px rgba(0, 0, 0, 0.15);\n",
              "      filter: drop-shadow(0px 1px 2px rgba(0, 0, 0, 0.3));\n",
              "      fill: #FFFFFF;\n",
              "    }\n",
              "  </style>\n",
              "\n",
              "      <script>\n",
              "        const buttonEl =\n",
              "          document.querySelector('#df-7dd4ad9c-1ede-47ee-a5ab-1d5bf7c32780 button.colab-df-convert');\n",
              "        buttonEl.style.display =\n",
              "          google.colab.kernel.accessAllowed ? 'block' : 'none';\n",
              "\n",
              "        async function convertToInteractive(key) {\n",
              "          const element = document.querySelector('#df-7dd4ad9c-1ede-47ee-a5ab-1d5bf7c32780');\n",
              "          const dataTable =\n",
              "            await google.colab.kernel.invokeFunction('convertToInteractive',\n",
              "                                                     [key], {});\n",
              "          if (!dataTable) return;\n",
              "\n",
              "          const docLinkHtml = 'Like what you see? Visit the ' +\n",
              "            '<a target=\"_blank\" href=https://colab.research.google.com/notebooks/data_table.ipynb>data table notebook</a>'\n",
              "            + ' to learn more about interactive tables.';\n",
              "          element.innerHTML = '';\n",
              "          dataTable['output_type'] = 'display_data';\n",
              "          await google.colab.output.renderOutput(dataTable, element);\n",
              "          const docLink = document.createElement('div');\n",
              "          docLink.innerHTML = docLinkHtml;\n",
              "          element.appendChild(docLink);\n",
              "        }\n",
              "      </script>\n",
              "    </div>\n",
              "  </div>\n",
              "  "
            ]
          },
          "metadata": {},
          "execution_count": 9
        }
      ]
    },
    {
      "cell_type": "code",
      "source": [
        "X_train, X_val, y_train, y_val = data_split(df)"
      ],
      "metadata": {
        "id": "VD0UE_PLDlL4"
      },
      "execution_count": 10,
      "outputs": []
    },
    {
      "cell_type": "code",
      "execution_count": 11,
      "metadata": {
        "id": "Nq53Veyn4TlV",
        "colab": {
          "base_uri": "https://localhost:8080/"
        },
        "outputId": "003d5a80-7445-49ee-a1b9-2103b56e7724"
      },
      "outputs": [
        {
          "output_type": "stream",
          "name": "stdout",
          "text": [
            "Epoch 1/25\n",
            "346/346 [==============================] - 35s 67ms/step - loss: 0.3401 - acc: 0.8580 - val_loss: 0.2417 - val_acc: 0.9041\n",
            "Epoch 2/25\n",
            "346/346 [==============================] - 21s 62ms/step - loss: 0.2302 - acc: 0.9092 - val_loss: 0.1971 - val_acc: 0.9218\n",
            "Epoch 3/25\n",
            "346/346 [==============================] - 22s 64ms/step - loss: 0.2015 - acc: 0.9213 - val_loss: 0.2085 - val_acc: 0.9196\n",
            "Epoch 4/25\n",
            "346/346 [==============================] - 23s 65ms/step - loss: 0.1755 - acc: 0.9320 - val_loss: 0.1868 - val_acc: 0.9236\n",
            "Epoch 5/25\n",
            "346/346 [==============================] - 23s 66ms/step - loss: 0.1722 - acc: 0.9322 - val_loss: 0.2137 - val_acc: 0.9070\n",
            "Epoch 6/25\n",
            "346/346 [==============================] - 23s 67ms/step - loss: 0.1541 - acc: 0.9412 - val_loss: 0.3115 - val_acc: 0.8794\n",
            "Epoch 7/25\n",
            "346/346 [==============================] - 23s 66ms/step - loss: 0.1529 - acc: 0.9387 - val_loss: 0.1513 - val_acc: 0.9410\n",
            "Epoch 8/25\n",
            "346/346 [==============================] - 23s 66ms/step - loss: 0.1380 - acc: 0.9465 - val_loss: 0.1513 - val_acc: 0.9413\n",
            "Epoch 9/25\n",
            "346/346 [==============================] - 23s 66ms/step - loss: 0.1223 - acc: 0.9500 - val_loss: 0.1640 - val_acc: 0.9348\n",
            "Epoch 10/25\n",
            "346/346 [==============================] - 23s 66ms/step - loss: 0.1186 - acc: 0.9526 - val_loss: 0.1658 - val_acc: 0.9374\n",
            "Epoch 11/25\n",
            "346/346 [==============================] - 23s 66ms/step - loss: 0.1037 - acc: 0.9601 - val_loss: 0.1593 - val_acc: 0.9381\n",
            "Epoch 12/25\n",
            "346/346 [==============================] - 23s 67ms/step - loss: 0.1137 - acc: 0.9543 - val_loss: 0.1485 - val_acc: 0.9421\n",
            "Epoch 13/25\n",
            "346/346 [==============================] - 23s 67ms/step - loss: 0.1094 - acc: 0.9566 - val_loss: 0.1384 - val_acc: 0.9482\n",
            "Epoch 14/25\n",
            "346/346 [==============================] - 23s 66ms/step - loss: 0.0993 - acc: 0.9617 - val_loss: 0.1479 - val_acc: 0.9432\n",
            "Epoch 15/25\n",
            "346/346 [==============================] - 23s 66ms/step - loss: 0.1034 - acc: 0.9569 - val_loss: 0.2005 - val_acc: 0.9308\n",
            "Epoch 16/25\n",
            "346/346 [==============================] - 23s 66ms/step - loss: 0.1103 - acc: 0.9558 - val_loss: 0.1565 - val_acc: 0.9439\n",
            "Epoch 17/25\n",
            "346/346 [==============================] - 23s 67ms/step - loss: 0.1024 - acc: 0.9594 - val_loss: 0.1616 - val_acc: 0.9388\n",
            "Epoch 18/25\n",
            "346/346 [==============================] - 23s 67ms/step - loss: 0.0991 - acc: 0.9595 - val_loss: 0.1300 - val_acc: 0.9490\n",
            "Epoch 19/25\n",
            "346/346 [==============================] - 23s 66ms/step - loss: 0.0945 - acc: 0.9609 - val_loss: 0.1652 - val_acc: 0.9406\n",
            "Epoch 20/25\n",
            "346/346 [==============================] - 23s 67ms/step - loss: 0.0983 - acc: 0.9606 - val_loss: 0.1734 - val_acc: 0.9406\n",
            "Epoch 21/25\n",
            "346/346 [==============================] - 23s 67ms/step - loss: 0.0945 - acc: 0.9606 - val_loss: 0.1417 - val_acc: 0.9518\n",
            "Epoch 22/25\n",
            "346/346 [==============================] - 23s 66ms/step - loss: 0.0813 - acc: 0.9661 - val_loss: 0.1425 - val_acc: 0.9558\n",
            "Epoch 23/25\n",
            "346/346 [==============================] - 23s 66ms/step - loss: 0.0881 - acc: 0.9632 - val_loss: 0.1376 - val_acc: 0.9587\n",
            "Epoch 24/25\n",
            "346/346 [==============================] - 23s 66ms/step - loss: 0.0833 - acc: 0.9666 - val_loss: 0.1811 - val_acc: 0.9421\n",
            "Epoch 25/25\n",
            "346/346 [==============================] - 23s 66ms/step - loss: 0.0840 - acc: 0.9652 - val_loss: 0.1615 - val_acc: 0.9439\n"
          ]
        }
      ],
      "source": [
        "history = model.fit(X_train, y_train, epochs=25, batch_size=batch_size, validation_data=(X_val, y_val), verbose=1)"
      ]
    },
    {
      "cell_type": "code",
      "source": [
        "#Accuracy Plot\n",
        "plt.plot(history.history['acc'], label='train acc')\n",
        "plt.plot(history.history['val_acc'], label='val acc')\n",
        "plt.legend()\n",
        "plt.show()"
      ],
      "metadata": {
        "colab": {
          "base_uri": "https://localhost:8080/",
          "height": 265
        },
        "id": "hoI_IIqZJ9md",
        "outputId": "5846ec55-fc22-476d-ebe9-aa74feaf3ef2"
      },
      "execution_count": 17,
      "outputs": [
        {
          "output_type": "display_data",
          "data": {
            "text/plain": [
              "<Figure size 432x288 with 1 Axes>"
            ],
            "image/png": "[encoded data removed]"
          },
          "metadata": {
            "needs_background": "light"
          }
        }
      ]
    },
    {
      "cell_type": "code",
      "source": [
        "#Loss Plot\n",
        "plt.plot(history.history['loss'], label='train loss')\n",
        "plt.plot(history.history['val_loss'], label='val loss')\n",
        "plt.legend()\n",
        "plt.show()"
      ],
      "metadata": {
        "colab": {
          "base_uri": "https://localhost:8080/",
          "height": 267
        },
        "id": "d2hAA_ueJ9vR",
        "outputId": "07d650de-661b-4375-d55d-c7bda6d4f17d"
      },
      "execution_count": 18,
      "outputs": [
        {
          "output_type": "display_data",
          "data": {
            "text/plain": [
              "<Figure size 432x288 with 1 Axes>"
            ],
            "image/png": "[encoded data removed]"
          },
          "metadata": {
            "needs_background": "light"
          }
        }
      ]
    },
    {
      "cell_type": "code",
      "source": [
        "#Model Evaluation\n",
        "model.evaluate(X_val,y_val,batch_size=32)"
      ],
      "metadata": {
        "colab": {
          "base_uri": "https://localhost:8080/"
        },
        "id": "nhRa6rZGKKdm",
        "outputId": "b4d19173-e5f3-4671-c2e6-41490003a548"
      },
      "execution_count": 19,
      "outputs": [
        {
          "output_type": "stream",
          "name": "stdout",
          "text": [
            "87/87 [==============================] - 5s 52ms/step - loss: 0.1615 - acc: 0.9439\n"
          ]
        },
        {
          "output_type": "execute_result",
          "data": {
            "text/plain": [
              "[0.16153690218925476, 0.9438812732696533]"
            ]
          },
          "metadata": {},
          "execution_count": 19
        }
      ]
    },
    {
      "cell_type": "code",
      "source": [
        "#predict\n",
        "y_pred=model.predict(X_val)\n",
        "y_pred=np.argmax(y_pred,axis=1)\n",
        "actual_labels = np.argmax(y_val,axis=-1)"
      ],
      "metadata": {
        "id": "s4FW6C3SKXUX"
      },
      "execution_count": 23,
      "outputs": []
    },
    {
      "cell_type": "code",
      "source": [
        "#get classification report\n",
        "print(classification_report(y_pred,actual_labels))"
      ],
      "metadata": {
        "colab": {
          "base_uri": "https://localhost:8080/"
        },
        "id": "aAHG9bQBKYSn",
        "outputId": "eec0694d-966e-4353-efed-19837c58dfbd"
      },
      "execution_count": 24,
      "outputs": [
        {
          "output_type": "stream",
          "name": "stdout",
          "text": [
            "              precision    recall  f1-score   support\n",
            "\n",
            "           0       0.99      0.94      0.96      2145\n",
            "           1       0.82      0.95      0.88       617\n",
            "\n",
            "    accuracy                           0.94      2762\n",
            "   macro avg       0.90      0.95      0.92      2762\n",
            "weighted avg       0.95      0.94      0.95      2762\n",
            "\n"
          ]
        }
      ]
    }
  ],
  "metadata": {
    "accelerator": "GPU",
    "colab": {
      "collapsed_sections": [],
      "machine_shape": "hm",
      "name": "TL_CNN2.ipynb",
      "provenance": []
    },
    "kernelspec": {
      "display_name": "Python 3",
      "name": "python3"
    },
    "language_info": {
      "name": "python"
    }
  },
  "nbformat": 4,
  "nbformat_minor": 0
}